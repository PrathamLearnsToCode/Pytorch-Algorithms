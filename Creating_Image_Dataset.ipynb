{
  "nbformat": 4,
  "nbformat_minor": 0,
  "metadata": {
    "colab": {
      "name": "Creating Image Dataset.ipynb",
      "provenance": [],
      "collapsed_sections": []
    },
    "kernelspec": {
      "name": "python3",
      "display_name": "Python 3"
    },
    "language_info": {
      "name": "python"
    }
  },
  "cells": [
    {
      "cell_type": "code",
      "source": [
        "! wget https://cf-courses-data.s3.us.cloud-object-storage.appdomain.cloud/IBMDeveloperSkillsNetwork-DL0110EN-SkillsNetwork/labs/Week1/data/img.tar.gz -P /resources/data"
      ],
      "metadata": {
        "colab": {
          "base_uri": "https://localhost:8080/"
        },
        "id": "Ezi6Owm1wF6S",
        "outputId": "8e9324a5-817f-43ce-c159-356ee0f40023"
      },
      "execution_count": 8,
      "outputs": [
        {
          "output_type": "stream",
          "name": "stdout",
          "text": [
            "--2022-01-20 23:26:00--  https://cf-courses-data.s3.us.cloud-object-storage.appdomain.cloud/IBMDeveloperSkillsNetwork-DL0110EN-SkillsNetwork/labs/Week1/data/img.tar.gz\n",
            "Resolving cf-courses-data.s3.us.cloud-object-storage.appdomain.cloud (cf-courses-data.s3.us.cloud-object-storage.appdomain.cloud)... 198.23.119.245\n",
            "Connecting to cf-courses-data.s3.us.cloud-object-storage.appdomain.cloud (cf-courses-data.s3.us.cloud-object-storage.appdomain.cloud)|198.23.119.245|:443... connected.\n",
            "HTTP request sent, awaiting response... 200 OK\n",
            "Length: 50460 (49K) [application/x-tar]\n",
            "Saving to: ‘/resources/data/img.tar.gz.1’\n",
            "\n",
            "img.tar.gz.1        100%[===================>]  49.28K  --.-KB/s    in 0.03s   \n",
            "\n",
            "2022-01-20 23:26:00 (1.51 MB/s) - ‘/resources/data/img.tar.gz.1’ saved [50460/50460]\n",
            "\n"
          ]
        }
      ]
    },
    {
      "cell_type": "code",
      "source": [
        "!tar -xf /resources/data/img.tar.gz "
      ],
      "metadata": {
        "id": "z_wLSgPpwGYr"
      },
      "execution_count": 9,
      "outputs": []
    },
    {
      "cell_type": "code",
      "source": [
        "def show_data(data_sample, shape = (28, 28)):\n",
        "    plt.imshow(data_sample[0].numpy().reshape(shape), cmap='gray')\n",
        "    plt.title('y = ' + data_sample[1])"
      ],
      "metadata": {
        "id": "7jhm3NllwKOV"
      },
      "execution_count": 10,
      "outputs": []
    },
    {
      "cell_type": "code",
      "source": [
        "import torch \n",
        "import matplotlib.pylab as plt\n",
        "import numpy as np\n",
        "from torch.utils.data import Dataset, DataLoader\n",
        "torch.manual_seed(0)"
      ],
      "metadata": {
        "colab": {
          "base_uri": "https://localhost:8080/"
        },
        "id": "hUs1j28lwMfJ",
        "outputId": "86e6f720-2c26-40a4-e1a8-8e17103e0211"
      },
      "execution_count": 11,
      "outputs": [
        {
          "output_type": "execute_result",
          "data": {
            "text/plain": [
              "<torch._C.Generator at 0x7ff2586c7bb0>"
            ]
          },
          "metadata": {},
          "execution_count": 11
        }
      ]
    },
    {
      "cell_type": "code",
      "source": [
        "from matplotlib.pyplot import imshow\n",
        "import matplotlib.pylab as plt\n",
        "from PIL import Image\n",
        "import pandas as pd\n",
        "import os"
      ],
      "metadata": {
        "id": "SWRYHfwMwQPY"
      },
      "execution_count": 12,
      "outputs": []
    },
    {
      "cell_type": "code",
      "source": [
        "# Read CSV file from the URL and print out the first five samples\n",
        "directory=\"\"\n",
        "csv_file ='/content/index - Sheet1.csv'\n",
        "csv_path=os.path.join(directory,csv_file)"
      ],
      "metadata": {
        "id": "p00LGGyYwSg2"
      },
      "execution_count": 13,
      "outputs": []
    },
    {
      "cell_type": "code",
      "source": [
        "data_name = pd.read_csv(csv_path)\n",
        "data_name.head()"
      ],
      "metadata": {
        "colab": {
          "base_uri": "https://localhost:8080/",
          "height": 206
        },
        "id": "H37kbjP-wUWJ",
        "outputId": "60ddebe9-8cbd-4252-aff6-7ee963716465"
      },
      "execution_count": 14,
      "outputs": [
        {
          "output_type": "execute_result",
          "data": {
            "text/html": [
              "\n",
              "  <div id=\"df-6e8bbb30-eb37-4a14-885f-fb7dd6907900\">\n",
              "    <div class=\"colab-df-container\">\n",
              "      <div>\n",
              "<style scoped>\n",
              "    .dataframe tbody tr th:only-of-type {\n",
              "        vertical-align: middle;\n",
              "    }\n",
              "\n",
              "    .dataframe tbody tr th {\n",
              "        vertical-align: top;\n",
              "    }\n",
              "\n",
              "    .dataframe thead th {\n",
              "        text-align: right;\n",
              "    }\n",
              "</style>\n",
              "<table border=\"1\" class=\"dataframe\">\n",
              "  <thead>\n",
              "    <tr style=\"text-align: right;\">\n",
              "      <th></th>\n",
              "      <th>Unnamed: 0</th>\n",
              "      <th>category</th>\n",
              "      <th>image</th>\n",
              "    </tr>\n",
              "  </thead>\n",
              "  <tbody>\n",
              "    <tr>\n",
              "      <th>0</th>\n",
              "      <td>1</td>\n",
              "      <td>Ankle boot</td>\n",
              "      <td>img/fashion0.png</td>\n",
              "    </tr>\n",
              "    <tr>\n",
              "      <th>1</th>\n",
              "      <td>2</td>\n",
              "      <td>T-shirt</td>\n",
              "      <td>img/fashion1.png</td>\n",
              "    </tr>\n",
              "    <tr>\n",
              "      <th>2</th>\n",
              "      <td>3</td>\n",
              "      <td>T-shirt</td>\n",
              "      <td>img/fashion2.png</td>\n",
              "    </tr>\n",
              "    <tr>\n",
              "      <th>3</th>\n",
              "      <td>4</td>\n",
              "      <td>Dress</td>\n",
              "      <td>img/fashion3.png</td>\n",
              "    </tr>\n",
              "    <tr>\n",
              "      <th>4</th>\n",
              "      <td>5</td>\n",
              "      <td>T-shirt</td>\n",
              "      <td>img/fashion4.png</td>\n",
              "    </tr>\n",
              "  </tbody>\n",
              "</table>\n",
              "</div>\n",
              "      <button class=\"colab-df-convert\" onclick=\"convertToInteractive('df-6e8bbb30-eb37-4a14-885f-fb7dd6907900')\"\n",
              "              title=\"Convert this dataframe to an interactive table.\"\n",
              "              style=\"display:none;\">\n",
              "        \n",
              "  <svg xmlns=\"http://www.w3.org/2000/svg\" height=\"24px\"viewBox=\"0 0 24 24\"\n",
              "       width=\"24px\">\n",
              "    <path d=\"M0 0h24v24H0V0z\" fill=\"none\"/>\n",
              "    <path d=\"M18.56 5.44l.94 2.06.94-2.06 2.06-.94-2.06-.94-.94-2.06-.94 2.06-2.06.94zm-11 1L8.5 8.5l.94-2.06 2.06-.94-2.06-.94L8.5 2.5l-.94 2.06-2.06.94zm10 10l.94 2.06.94-2.06 2.06-.94-2.06-.94-.94-2.06-.94 2.06-2.06.94z\"/><path d=\"M17.41 7.96l-1.37-1.37c-.4-.4-.92-.59-1.43-.59-.52 0-1.04.2-1.43.59L10.3 9.45l-7.72 7.72c-.78.78-.78 2.05 0 2.83L4 21.41c.39.39.9.59 1.41.59.51 0 1.02-.2 1.41-.59l7.78-7.78 2.81-2.81c.8-.78.8-2.07 0-2.86zM5.41 20L4 18.59l7.72-7.72 1.47 1.35L5.41 20z\"/>\n",
              "  </svg>\n",
              "      </button>\n",
              "      \n",
              "  <style>\n",
              "    .colab-df-container {\n",
              "      display:flex;\n",
              "      flex-wrap:wrap;\n",
              "      gap: 12px;\n",
              "    }\n",
              "\n",
              "    .colab-df-convert {\n",
              "      background-color: #E8F0FE;\n",
              "      border: none;\n",
              "      border-radius: 50%;\n",
              "      cursor: pointer;\n",
              "      display: none;\n",
              "      fill: #1967D2;\n",
              "      height: 32px;\n",
              "      padding: 0 0 0 0;\n",
              "      width: 32px;\n",
              "    }\n",
              "\n",
              "    .colab-df-convert:hover {\n",
              "      background-color: #E2EBFA;\n",
              "      box-shadow: 0px 1px 2px rgba(60, 64, 67, 0.3), 0px 1px 3px 1px rgba(60, 64, 67, 0.15);\n",
              "      fill: #174EA6;\n",
              "    }\n",
              "\n",
              "    [theme=dark] .colab-df-convert {\n",
              "      background-color: #3B4455;\n",
              "      fill: #D2E3FC;\n",
              "    }\n",
              "\n",
              "    [theme=dark] .colab-df-convert:hover {\n",
              "      background-color: #434B5C;\n",
              "      box-shadow: 0px 1px 3px 1px rgba(0, 0, 0, 0.15);\n",
              "      filter: drop-shadow(0px 1px 2px rgba(0, 0, 0, 0.3));\n",
              "      fill: #FFFFFF;\n",
              "    }\n",
              "  </style>\n",
              "\n",
              "      <script>\n",
              "        const buttonEl =\n",
              "          document.querySelector('#df-6e8bbb30-eb37-4a14-885f-fb7dd6907900 button.colab-df-convert');\n",
              "        buttonEl.style.display =\n",
              "          google.colab.kernel.accessAllowed ? 'block' : 'none';\n",
              "\n",
              "        async function convertToInteractive(key) {\n",
              "          const element = document.querySelector('#df-6e8bbb30-eb37-4a14-885f-fb7dd6907900');\n",
              "          const dataTable =\n",
              "            await google.colab.kernel.invokeFunction('convertToInteractive',\n",
              "                                                     [key], {});\n",
              "          if (!dataTable) return;\n",
              "\n",
              "          const docLinkHtml = 'Like what you see? Visit the ' +\n",
              "            '<a target=\"_blank\" href=https://colab.research.google.com/notebooks/data_table.ipynb>data table notebook</a>'\n",
              "            + ' to learn more about interactive tables.';\n",
              "          element.innerHTML = '';\n",
              "          dataTable['output_type'] = 'display_data';\n",
              "          await google.colab.output.renderOutput(dataTable, element);\n",
              "          const docLink = document.createElement('div');\n",
              "          docLink.innerHTML = docLinkHtml;\n",
              "          element.appendChild(docLink);\n",
              "        }\n",
              "      </script>\n",
              "    </div>\n",
              "  </div>\n",
              "  "
            ],
            "text/plain": [
              "   Unnamed: 0    category             image\n",
              "0           1  Ankle boot  img/fashion0.png\n",
              "1           2     T-shirt  img/fashion1.png\n",
              "2           3     T-shirt  img/fashion2.png\n",
              "3           4       Dress  img/fashion3.png\n",
              "4           5     T-shirt  img/fashion4.png"
            ]
          },
          "metadata": {},
          "execution_count": 14
        }
      ]
    },
    {
      "cell_type": "code",
      "source": [
        "# Get the value on location row 0, column 1 (Notice that index starts at 0)\n",
        "#rember this dataset has only 100 samples to make the download faster  \n",
        "print('File name:', data_name.iloc[0, 1])"
      ],
      "metadata": {
        "colab": {
          "base_uri": "https://localhost:8080/"
        },
        "id": "LXWifj80wWMJ",
        "outputId": "26766b8a-cbef-41cc-ac74-e532fdbb441f"
      },
      "execution_count": 15,
      "outputs": [
        {
          "output_type": "stream",
          "name": "stdout",
          "text": [
            "File name: Ankle boot\n"
          ]
        }
      ]
    },
    {
      "cell_type": "code",
      "source": [
        "# Get the value on location row 0, column 0 (Notice that index starts at 0.)\n",
        "\n",
        "print('y:', data_name.iloc[0, 0])"
      ],
      "metadata": {
        "colab": {
          "base_uri": "https://localhost:8080/"
        },
        "id": "6smMQBfPwYsg",
        "outputId": "f361ea73-835a-4698-f260-f23ba1cbdabf"
      },
      "execution_count": 16,
      "outputs": [
        {
          "output_type": "stream",
          "name": "stdout",
          "text": [
            "y: 1\n"
          ]
        }
      ]
    },
    {
      "cell_type": "code",
      "source": [
        "# Print out the file name and the class number of the element on row 1 (the second row)\n",
        "\n",
        "print('File name:', data_name.iloc[1, 1])\n",
        "print('class or y:', data_name.iloc[1, 0])"
      ],
      "metadata": {
        "colab": {
          "base_uri": "https://localhost:8080/"
        },
        "id": "F-AJcuRTwawq",
        "outputId": "9aa1b8d8-f425-4143-b13a-e5e91084cf76"
      },
      "execution_count": 17,
      "outputs": [
        {
          "output_type": "stream",
          "name": "stdout",
          "text": [
            "File name: T-shirt\n",
            "class or y: 2\n"
          ]
        }
      ]
    },
    {
      "cell_type": "code",
      "source": [
        "# Print out the total number of rows in traing dataset\n",
        "\n",
        "print('The number of rows: ', data_name.shape[0])"
      ],
      "metadata": {
        "colab": {
          "base_uri": "https://localhost:8080/"
        },
        "id": "Azrb6__UwdJa",
        "outputId": "8598bb99-5887-41b6-acdd-51cbd27b981c"
      },
      "execution_count": 18,
      "outputs": [
        {
          "output_type": "stream",
          "name": "stdout",
          "text": [
            "The number of rows:  60000\n"
          ]
        }
      ]
    },
    {
      "cell_type": "markdown",
      "source": [
        "# Load Image"
      ],
      "metadata": {
        "id": "gAde8fRzwfIJ"
      }
    },
    {
      "cell_type": "code",
      "source": [
        "# Combine the directory path with file name\n",
        "\n",
        "image_name =data_name.iloc[1, 1]\n",
        "image_name"
      ],
      "metadata": {
        "colab": {
          "base_uri": "https://localhost:8080/",
          "height": 35
        },
        "id": "dz1CzdrcwhQM",
        "outputId": "dc091e66-6840-4aaf-c7b8-4605440fceb7"
      },
      "execution_count": 19,
      "outputs": [
        {
          "output_type": "execute_result",
          "data": {
            "application/vnd.google.colaboratory.intrinsic+json": {
              "type": "string"
            },
            "text/plain": [
              "'T-shirt'"
            ]
          },
          "metadata": {},
          "execution_count": 19
        }
      ]
    },
    {
      "cell_type": "code",
      "source": [
        "image_path=os.path.join(directory,image_name)\n",
        "image_path"
      ],
      "metadata": {
        "colab": {
          "base_uri": "https://localhost:8080/",
          "height": 35
        },
        "id": "2IhZTvfxwhsD",
        "outputId": "80ad923b-a164-4f49-8c20-3362f495848e"
      },
      "execution_count": 20,
      "outputs": [
        {
          "output_type": "execute_result",
          "data": {
            "application/vnd.google.colaboratory.intrinsic+json": {
              "type": "string"
            },
            "text/plain": [
              "'T-shirt'"
            ]
          },
          "metadata": {},
          "execution_count": 20
        }
      ]
    },
    {
      "cell_type": "code",
      "source": [
        "# Plot the second training image\n",
        "\n",
        "image = Image.open(image_path)\n",
        "plt.imshow(image,cmap='gray', vmin=0, vmax=255)\n",
        "plt.title(data_name.iloc[1, 0])\n",
        "plt.show()"
      ],
      "metadata": {
        "id": "wHnb4bxbwlXM"
      },
      "execution_count": null,
      "outputs": []
    },
    {
      "cell_type": "code",
      "source": [
        "# Plot the 20th image\n",
        "\n",
        "image_name = data_name.iloc[19, 1]\n",
        "image_path=os.path.join(directory,image_name)\n",
        "image = Image.open(image_path)\n",
        "plt.imshow(image,cmap='gray', vmin=0, vmax=255)\n",
        "plt.title(data_name.iloc[19, 0])\n",
        "plt.show()"
      ],
      "metadata": {
        "id": "xql7iUb9wneb"
      },
      "execution_count": null,
      "outputs": []
    },
    {
      "cell_type": "markdown",
      "source": [
        "# Creating Dataset Class"
      ],
      "metadata": {
        "id": "gJBzw5Iowpxh"
      }
    },
    {
      "cell_type": "code",
      "source": [
        "# Create your own dataset object\n",
        "\n",
        "class Dataset(Dataset):\n",
        "\n",
        "    # Constructor\n",
        "    def __init__(self, csv_file, data_dir, transform=None):\n",
        "        \n",
        "        # Image directory\n",
        "        self.data_dir=data_dir\n",
        "        \n",
        "        # The transform is goint to be used on image\n",
        "        self.transform = transform\n",
        "        data_dircsv_file=os.path.join(self.data_dir,csv_file)\n",
        "        # Load the CSV file contians image info\n",
        "        self.data_name= pd.read_csv(data_dircsv_file)\n",
        "        \n",
        "        # Number of images in dataset\n",
        "        self.len=self.data_name.shape[0] \n",
        "    \n",
        "    # Get the length\n",
        "    def __len__(self):\n",
        "        return self.len\n",
        "    \n",
        "    # Getter\n",
        "    def __getitem__(self, idx):\n",
        "        \n",
        "        # Image file path\n",
        "        img_name=os.path.join(self.data_dir,self.data_name.iloc[idx, 1])\n",
        "        # Open image file\n",
        "        image = Image.open(img_name)\n",
        "        \n",
        "        # The class label for the image\n",
        "        y = self.data_name.iloc[idx, 0]\n",
        "        \n",
        "        # If there is any transform method, apply it onto the image\n",
        "        if self.transform:\n",
        "            image = self.transform(image)\n",
        "\n",
        "        return image, y"
      ],
      "metadata": {
        "id": "1KcgogL3wtG_"
      },
      "execution_count": 35,
      "outputs": []
    },
    {
      "cell_type": "code",
      "source": [
        "# Create the dataset objects\n",
        "\n",
        "dataset = Dataset(csv_file=csv_file, data_dir=directory)"
      ],
      "metadata": {
        "id": "okgxAp7jw0D0"
      },
      "execution_count": 36,
      "outputs": []
    },
    {
      "cell_type": "code",
      "source": [
        "image=dataset[0][0]\n",
        "y=dataset[0][1]\n",
        "\n",
        "plt.imshow(image,cmap='gray', vmin=0, vmax=255)\n",
        "plt.title(y)\n",
        "plt.show()"
      ],
      "metadata": {
        "id": "_WodfsRlw2wt"
      },
      "execution_count": null,
      "outputs": []
    },
    {
      "cell_type": "code",
      "source": [
        "y"
      ],
      "metadata": {
        "id": "aUEJVvPlw5IA"
      },
      "execution_count": null,
      "outputs": []
    },
    {
      "cell_type": "code",
      "source": [
        "image=dataset[9][0]\n",
        "y=dataset[9][1]\n",
        "\n",
        "plt.imshow(image,cmap='gray', vmin=0, vmax=255)\n",
        "plt.title(y)\n",
        "plt.show()"
      ],
      "metadata": {
        "id": "qQ7xKFGpw7fG"
      },
      "execution_count": null,
      "outputs": []
    },
    {
      "cell_type": "markdown",
      "source": [
        "# Torchvision Transforms"
      ],
      "metadata": {
        "id": "Hk3fLuuCw8EC"
      }
    },
    {
      "cell_type": "code",
      "source": [
        "import torchvision.transforms as transforms"
      ],
      "metadata": {
        "id": "vcPYNcXAw_cT"
      },
      "execution_count": 40,
      "outputs": []
    },
    {
      "cell_type": "code",
      "source": [
        "# Combine two transforms: crop and convert to tensor. Apply the compose to MNIST dataset\n",
        "\n",
        "croptensor_data_transform = transforms.Compose([transforms.CenterCrop(20), transforms.ToTensor()])\n",
        "dataset = Dataset(csv_file=csv_file , data_dir=directory,transform=croptensor_data_transform )\n",
        "print(\"The shape of the first element tensor: \", dataset[0][0].shape)"
      ],
      "metadata": {
        "id": "3TyYKRJ8xCyH"
      },
      "execution_count": null,
      "outputs": []
    },
    {
      "cell_type": "code",
      "source": [
        "# Plot the first element in the dataset\n",
        "\n",
        "show_data(dataset[0],shape = (20, 20))"
      ],
      "metadata": {
        "id": "quyALHgCxEgV"
      },
      "execution_count": null,
      "outputs": []
    },
    {
      "cell_type": "code",
      "source": [
        "# Plot the second element in the dataset\n",
        "\n",
        "show_data(dataset[1],shape = (20, 20))"
      ],
      "metadata": {
        "id": "2Zc2pKWQxGan"
      },
      "execution_count": null,
      "outputs": []
    },
    {
      "cell_type": "code",
      "source": [
        "# Construct the compose. Apply it on MNIST dataset. Plot the image out.\n",
        "\n",
        "fliptensor_data_transform = transforms.Compose([transforms.RandomVerticalFlip(p=1),transforms.ToTensor()])\n",
        "dataset = Dataset(csv_file=csv_file , data_dir=directory,transform=fliptensor_data_transform )\n",
        "show_data(dataset[1])"
      ],
      "metadata": {
        "id": "1b3tIVVJxIXx"
      },
      "execution_count": null,
      "outputs": []
    }
  ]
}